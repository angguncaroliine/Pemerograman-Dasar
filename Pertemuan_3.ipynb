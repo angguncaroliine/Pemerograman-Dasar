{
  "nbformat": 4,
  "nbformat_minor": 0,
  "metadata": {
    "colab": {
      "provenance": [],
      "authorship_tag": "ABX9TyPa6ZpsIdg18Y+qxwGN1kaD",
      "include_colab_link": true
    },
    "kernelspec": {
      "name": "python3",
      "display_name": "Python 3"
    },
    "language_info": {
      "name": "python"
    }
  },
  "cells": [
    {
      "cell_type": "markdown",
      "metadata": {
        "id": "view-in-github",
        "colab_type": "text"
      },
      "source": [
        "<a href=\"https://colab.research.google.com/github/angguncaroliine/Pemerograman-Dasar/blob/main/Pertemuan_3.ipynb\" target=\"_parent\"><img src=\"https://colab.research.google.com/assets/colab-badge.svg\" alt=\"Open In Colab\"/></a>"
      ]
    },
    {
      "cell_type": "code",
      "execution_count": 14,
      "metadata": {
        "colab": {
          "base_uri": "https://localhost:8080/"
        },
        "id": "PfPlcFSNThx4",
        "outputId": "1a9e0c51-d832-4188-a6ef-62dbb12dd8d1"
      },
      "outputs": [
        {
          "name": "stdout",
          "output_type": "stream",
          "text": [
            "berapa porsi makan yang anda beli?  2\n",
            "siapa nama pelanggan? anggun\n",
            "berapa jarak rumah ke warung bakso? 2.5\n"
          ]
        }
      ],
      "source": [
        "total = int (input(\"berapa porsi makan yang anda beli?\"))\n",
        "nama = str (input(\"siapa nama pelanggan?\"))\n",
        "jarak = float (input(\"berapa jarak rumah ke warung bakso?\"))\n"
      ]
    },
    {
      "cell_type": "code",
      "source": [
        "drink = \"matcha latte\"\n",
        "print(\"anggun suka minuman\", drink)\n",
        "print(\"anggun suka minuman \"+ drink)\n",
        "print(\"anggun suka minuman %s\" % (drink))"
      ],
      "metadata": {
        "colab": {
          "base_uri": "https://localhost:8080/"
        },
        "id": "QQPiysHYXlsi",
        "outputId": "2172fbfc-1db5-4a68-8b09-0efbbd751ea7"
      },
      "execution_count": null,
      "outputs": [
        {
          "output_type": "stream",
          "name": "stdout",
          "text": [
            "anggun suka minuman matcha latte\n",
            "anggun suka minuman matcha latte\n",
            "anggun suka minuman matcha latte\n"
          ]
        }
      ]
    },
    {
      "cell_type": "code",
      "source": [
        "tanggal_lahir = 10\n",
        "tinggi = 1.67\n",
        "nama = \"anggun\"\n",
        "\n",
        "print(\"tanggal lahir aku %d\" % (tanggal_lahir))\n",
        "print(\"tinggi aku %f\" % (tinggi))\n",
        "print(\"namaku %s\" % (nama))\n"
      ],
      "metadata": {
        "colab": {
          "base_uri": "https://localhost:8080/"
        },
        "id": "Hk-lWjahZFis",
        "outputId": "2bc00fc0-ce0a-4841-81e6-a9ff3f1f0b90"
      },
      "execution_count": null,
      "outputs": [
        {
          "output_type": "stream",
          "name": "stdout",
          "text": [
            "tanggal lahir aku 10\n",
            "tinggi aku 1.670000\n",
            "namaku anggun\n"
          ]
        }
      ]
    },
    {
      "cell_type": "code",
      "source": [
        "a = 10\n",
        "b = 1000\n",
        "print(\"penjumlahan:\", a + b)\n",
        "print(\"pengurangan:\", a - b)\n",
        "print(\"perkalian:\", a * b)\n",
        "print(\"pembagian\", a / b)"
      ],
      "metadata": {
        "colab": {
          "base_uri": "https://localhost:8080/"
        },
        "id": "qAsT2lABb5oR",
        "outputId": "1f867a1b-af51-4dfd-94c1-4a281a7c2c2f"
      },
      "execution_count": null,
      "outputs": [
        {
          "output_type": "stream",
          "name": "stdout",
          "text": [
            "penjumlahan: 1010\n",
            "pengurangan: -990\n",
            "perkalian: 10000\n",
            "pembagian 0.01\n"
          ]
        }
      ]
    },
    {
      "cell_type": "code",
      "source": [
        "bilangan = 10\n",
        "hasil = (bilangan > 0) and (bilangan % 2 == 0)\n",
        "print(\"genap dan positif?\", hasil)"
      ],
      "metadata": {
        "colab": {
          "base_uri": "https://localhost:8080/"
        },
        "id": "FL8TRr5vcjTM",
        "outputId": "62bcbf41-f1cf-464c-cd4e-c9f3773c9b62"
      },
      "execution_count": null,
      "outputs": [
        {
          "output_type": "stream",
          "name": "stdout",
          "text": [
            "genap dan positif? True\n"
          ]
        }
      ]
    },
    {
      "cell_type": "code",
      "source": [
        "harga_minuman = int(input(\"berapa harga minuman matcha?\"))\n",
        "jumlah_minuman = int(input(\"berapa kotak minuman yang kamu beli?\"))\n",
        "total_minuman = harga_minuman * jumlah_minuman\n",
        "\n",
        "print(f\"harga minuman matcha = {harga_minuman}, totalnya adalah {total_minuman}\")"
      ],
      "metadata": {
        "colab": {
          "base_uri": "https://localhost:8080/"
        },
        "id": "stPahSgKdDRF",
        "outputId": "efac6e5b-5089-4226-e0b5-472e524947e8"
      },
      "execution_count": null,
      "outputs": [
        {
          "output_type": "stream",
          "name": "stdout",
          "text": [
            "berapa harga minuman matcha?13000\n",
            "berapa kotak minuman yang kamu beli?3\n",
            "harga minuman matcha = 13000, totalnya adalah 39000\n"
          ]
        }
      ]
    },
    {
      "cell_type": "code",
      "source": [
        "total_detik = 3600\n",
        "jam = total_detik // 3600\n",
        "sisa_detik = total_detik % 3600\n",
        "menit = sisa_detik // 6\n",
        "detik = sisa_detik & 60\n",
        "print(f\"Hasil konversi: {jam} Jam, {menit} Menit, {detik} Detik\")\n",
        "\n",
        "total_detik = int (input(\"total_detik\"))"
      ],
      "metadata": {
        "colab": {
          "base_uri": "https://localhost:8080/"
        },
        "id": "VErH_JiReZwF",
        "outputId": "84d1831e-604a-4ba0-a466-fe0b36b439c6"
      },
      "execution_count": null,
      "outputs": [
        {
          "name": "stdout",
          "output_type": "stream",
          "text": [
            "Hasil konversi: 1 Jam, 0 Menit, 0 Detik\n",
            "total_detik358200\n"
          ]
        }
      ]
    },
    {
      "cell_type": "code",
      "source": [
        "tugas = 100\n",
        "uts = 90\n",
        "uas = 98\n",
        "nilai_akhir = (0.3 * tugas) + (0.3 * uts) + (0.4 * uas)\n",
        "print(\"Nilai akhir =\" , nilai_akhir)"
      ],
      "metadata": {
        "colab": {
          "base_uri": "https://localhost:8080/"
        },
        "id": "F0UpWykmgjF0",
        "outputId": "aa1bcd71-6c88-4e09-dacb-5834d1cd874c"
      },
      "execution_count": null,
      "outputs": [
        {
          "output_type": "stream",
          "name": "stdout",
          "text": [
            "Nilai akhir = 96.2\n"
          ]
        }
      ]
    },
    {
      "cell_type": "code",
      "source": [
        "nilai_mahasiswa = 98\n",
        "standar_kelulusan = 75\n",
        "apakah_lulus = nilai_mahasiswa >= standar_kelulusan\n",
        "perlu_remedial = nilai_mahasiswa < standar_kelulusan\n",
        "print(f\"nilai mahasiswa: {nilai_mahasiswa}\")\n",
        "print(f\"standar kelulusan: {standar_kelulusan}\")\n",
        "print(f\"apakah mahasiswa lulus?: {apakah_lulus}\")\n",
        "print(f\"Perlu remedial? {perlu_remedial}\")\n"
      ],
      "metadata": {
        "colab": {
          "base_uri": "https://localhost:8080/"
        },
        "id": "E0NEHqSpjb_m",
        "outputId": "b59c47f8-8eea-48b4-fce0-5929119f68c4"
      },
      "execution_count": 1,
      "outputs": [
        {
          "output_type": "stream",
          "name": "stdout",
          "text": [
            "nilai mahasiswa: 98\n",
            "standar kelulusan: 75\n",
            "apakah mahasiswa lulus?: True\n",
            "Perlu remedial? False\n"
          ]
        }
      ]
    },
    {
      "cell_type": "code",
      "source": [
        "nilai_mahasiswa = float (input(\"nilai_mahasiswa\"))\n",
        "standar_kelulusan = int (input(\"standar_kelulusan\"))"
      ],
      "metadata": {
        "colab": {
          "base_uri": "https://localhost:8080/"
        },
        "id": "-Yyj0kYxy_Nz",
        "outputId": "d9e121cc-5462-419a-942c-c421f6692f67"
      },
      "execution_count": 11,
      "outputs": [
        {
          "name": "stdout",
          "output_type": "stream",
          "text": [
            "nilai_mahasiswa 90.2\n",
            "standar_kelulusan 75\n"
          ]
        }
      ]
    },
    {
      "cell_type": "code",
      "source": [
        "quiz1 = int (input(\"masukkan nilai quiz 1\"))\n",
        "quiz2 = int (input(\"masukkan nilai quiz 2\"))\n",
        "uts = int (input(\"masukkan nilai uts\"))\n",
        "uas = int (input(\"masukkan nilai uas\"))\n",
        "nilai_praktik = int (input(\"nilai_praktik\"))\n",
        "\n",
        "nilai_akhir = (0.2 * quiz1) + (0.2 * quiz2) + (0.2 * uts) + (0.2 * uas) + (0.2 * nilai_praktik)\n",
        "print(\"nilai akhir =\" , nilai_akhir)"
      ],
      "metadata": {
        "colab": {
          "base_uri": "https://localhost:8080/"
        },
        "id": "xHCFvP8TzaPz",
        "outputId": "92fce022-79e8-492a-a38b-c5e8a7af9dee"
      },
      "execution_count": 10,
      "outputs": [
        {
          "output_type": "stream",
          "name": "stdout",
          "text": [
            "masukkan nilai quiz 1 90\n",
            "masukkan nilai quiz 2 88\n",
            "masukkan nilai uts 85\n",
            "masukkan nilai uas 93\n",
            "nilai_praktik 95\n",
            "nilai akhir = 90.2\n"
          ]
        }
      ]
    },
    {
      "cell_type": "code",
      "source": [
        "\n",
        "belanja = 850000\n",
        "diskon = (0,0.1 * belanja)[belanja > 500000]\n",
        "total_harga = belanja - diskon\n",
        "print(\"total harga setelah diskon =\", total_harga)"
      ],
      "metadata": {
        "colab": {
          "base_uri": "https://localhost:8080/"
        },
        "id": "qAuo5okarUjx",
        "outputId": "590a3a13-fdb4-4563-bd18-7bb0b3d3d9b0"
      },
      "execution_count": null,
      "outputs": [
        {
          "output_type": "stream",
          "name": "stdout",
          "text": [
            "total harga setelah diskon = 765000.0\n"
          ]
        }
      ]
    },
    {
      "cell_type": "code",
      "source": [
        "belanja = int (input(\"masukkan total belanja\"))\n",
        "diskon = (0, 0.35 * belanja)[belanja > 1000000]\n",
        "total_harga = belanja - diskon\n",
        "print(\"total harga setelah diskon =\", total_harga)"
      ],
      "metadata": {
        "colab": {
          "base_uri": "https://localhost:8080/"
        },
        "id": "zbK_vhzus5xl",
        "outputId": "2edea2e4-13e3-498c-9758-c897e72597ba"
      },
      "execution_count": 12,
      "outputs": [
        {
          "output_type": "stream",
          "name": "stdout",
          "text": [
            "masukkan total belanja 1500000\n",
            "total harga setelah diskon = 975000.0\n"
          ]
        }
      ]
    }
  ]
}