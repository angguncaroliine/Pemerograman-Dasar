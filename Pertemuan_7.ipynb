{
  "nbformat": 4,
  "nbformat_minor": 0,
  "metadata": {
    "colab": {
      "provenance": [],
      "authorship_tag": "ABX9TyP5UvvWe2Aa++HyBkC2Md5d",
      "include_colab_link": true
    },
    "kernelspec": {
      "name": "python3",
      "display_name": "Python 3"
    },
    "language_info": {
      "name": "python"
    }
  },
  "cells": [
    {
      "cell_type": "markdown",
      "metadata": {
        "id": "view-in-github",
        "colab_type": "text"
      },
      "source": [
        "<a href=\"https://colab.research.google.com/github/angguncaroliine/Pemerograman-Dasar/blob/main/Pertemuan_7.ipynb\" target=\"_parent\"><img src=\"https://colab.research.google.com/assets/colab-badge.svg\" alt=\"Open In Colab\"/></a>"
      ]
    },
    {
      "cell_type": "code",
      "source": [
        "# SOAL 1: Fungsi Inisialisasi Sederhana\n",
        "def sapa_praktikan():\n",
        "    \"\"\"Mencetak pesan sambutan dasar.\"\"\"\n",
        "    print(\"Sistem siap. Selamat datang kembali di sesi praktikum.\")\n",
        "\n",
        "# Pemanggilan:\n",
        "sapa_praktikan()"
      ],
      "metadata": {
        "colab": {
          "base_uri": "https://localhost:8080/"
        },
        "id": "XcCUzIMwIxFo",
        "outputId": "bd5092a7-9c35-41b8-8a0a-f824c9a84d73"
      },
      "execution_count": 2,
      "outputs": [
        {
          "output_type": "stream",
          "name": "stdout",
          "text": [
            "Sistem siap. Selamat datang kembali di sesi praktikum.\n"
          ]
        }
      ]
    },
    {
      "cell_type": "code",
      "execution_count": 38,
      "metadata": {
        "colab": {
          "base_uri": "https://localhost:8080/"
        },
        "id": "mZ51cCYdN_VA",
        "outputId": "ee4282e9-7822-481a-fdf1-a64e79d28619"
      },
      "outputs": [
        {
          "output_type": "stream",
          "name": "stdout",
          "text": [
            "Nama Lengkap: Anggun Caroline Hutagaol\n",
            "NIM: 4232401037\n",
            "Program Studi: Teknologi Rekayasa Pembangkit Energi\n",
            "Angkatan 2024\n"
          ]
        }
      ],
      "source": [
        "def Biodata():\n",
        "    print(f\"Nama Lengkap: Anggun Caroline Hutagaol\")\n",
        "    print(f\"NIM: 4232401037\")\n",
        "    print(f\"Program Studi: Teknologi Rekayasa Pembangkit Energi\")\n",
        "    print(f\"Angkatan 2024\")\n",
        "\n",
        "Biodata()"
      ]
    },
    {
      "cell_type": "code",
      "source": [
        "# SOAL 2: Menghitung Volume Kubus\n",
        "def hitung_volume_kubus(sisi):\n",
        "    \"\"\"Menghitung volume kubus dari panjang sisinya.\"\"\"\n",
        "    return sisi ** 3\n",
        "\n",
        "# Pemanggilan:\n",
        "panjang_sisi = 5\n",
        "print(f\"Volume kubus dengan sisi {panjang_sisi} adalah: {hitung_volume_kubus(panjang_sisi)}\")"
      ],
      "metadata": {
        "colab": {
          "base_uri": "https://localhost:8080/"
        },
        "id": "kGf3hcqQJi1I",
        "outputId": "729f3ae4-e4df-4e4f-ab61-6e2530d0a891"
      },
      "execution_count": 4,
      "outputs": [
        {
          "output_type": "stream",
          "name": "stdout",
          "text": [
            "Volume kubus dengan sisi 5 adalah: 125\n"
          ]
        }
      ]
    },
    {
      "cell_type": "code",
      "source": [
        "def hitung_volume_balok(panjang, lebar, tinggi):\n",
        "    return panjang * lebar * tinggi\n",
        "\n",
        "panjang = 10\n",
        "lebar = 5\n",
        "tinggi = 2\n",
        "volume = hitung_volume_balok(panjang, lebar, tinggi)\n",
        "print(f\"Volume balok adalah: {volume}\")"
      ],
      "metadata": {
        "colab": {
          "base_uri": "https://localhost:8080/"
        },
        "id": "fJVZWyo0JkWi",
        "outputId": "17162455-a407-4ecf-c49f-380f68c459e8"
      },
      "execution_count": 14,
      "outputs": [
        {
          "output_type": "stream",
          "name": "stdout",
          "text": [
            "Volume balok adalah: 100\n"
          ]
        }
      ]
    },
    {
      "cell_type": "code",
      "source": [
        "# SOAL 3: Menghitung Rata-rata dari List Nilai\n",
        "def hitung_rata_rata(data_nilai):\n",
        "    \"\"\"Menghitung rata-rata dari list angka menggunakan perulangan for.\"\"\"\n",
        "    total = 0\n",
        "\n",
        "    # Perulangan untuk menjumlahkan nilai\n",
        "    for nilai in data_nilai:\n",
        "        total += nilai\n",
        "\n",
        "    # Pembagian untuk rata-rata\n",
        "    if total > 0:\n",
        "        return total / len(data_nilai)\n",
        "    return 0\n",
        "\n",
        "# Pemanggilan:\n",
        "nilai_praktikan = [85, 78, 92, 65, 90]\n",
        "print(f\"Nilai rata-rata kelas adalah: {hitung_rata_rata(nilai_praktikan)}\")"
      ],
      "metadata": {
        "colab": {
          "base_uri": "https://localhost:8080/"
        },
        "id": "ANA6ubRwJ8Z5",
        "outputId": "12cc0ceb-bc21-4855-853c-cb4c6ac7b2d4"
      },
      "execution_count": 15,
      "outputs": [
        {
          "output_type": "stream",
          "name": "stdout",
          "text": [
            "Nilai rata-rata kelas adalah: 82.0\n"
          ]
        }
      ]
    },
    {
      "cell_type": "code",
      "source": [
        "def hitung_rata_rata(data_nilai):\n",
        "    total = 0\n",
        "    jumlah_nilai_valid = 0\n",
        "\n",
        "    for nilai in data_nilai:\n",
        "        if 0 <= nilai <= 100:\n",
        "            total += nilai\n",
        "            jumlah_nilai_valid += 1\n",
        "\n",
        "    if jumlah_nilai_valid > 0:\n",
        "        return total / jumlah_nilai_valid\n",
        "    return 0\n",
        "\n",
        "nilai_praktikan = [85, 78, 92, 65, 90, 105, -10]\n",
        "print(f\"Nilai rata-rata kelas adalah: {hitung_rata_rata(nilai_praktikan)}\")"
      ],
      "metadata": {
        "colab": {
          "base_uri": "https://localhost:8080/"
        },
        "id": "uiBq2oBQLCKP",
        "outputId": "bda206f1-cb74-416e-90e8-40aa0a46c07d"
      },
      "execution_count": 18,
      "outputs": [
        {
          "output_type": "stream",
          "name": "stdout",
          "text": [
            "Nilai rata-rata kelas adalah: 82.0\n"
          ]
        }
      ]
    },
    {
      "cell_type": "code",
      "source": [
        "# SOAL 4: Sistem Penentuan Predikat Nilai\n",
        "def tentukan_predikat(skor):\n",
        "    \"\"\"Menentukan predikat (A, B, C, D, E) berdasarkan skor.\"\"\"\n",
        "    if skor >= 85:\n",
        "        return \"A\"\n",
        "    elif skor >= 70:\n",
        "        return \"B\"\n",
        "    elif skor >= 60:\n",
        "        return \"C\"\n",
        "    elif skor >= 50:\n",
        "        return \"D\"\n",
        "    else:\n",
        "        return \"E\"\n",
        "\n",
        "# Pemanggilan:\n",
        "print(f\"Skor 75 mendapat predikat: {tentukan_predikat(75)}\")\n",
        "print(f\"Skor 48 mendapat predikat: {tentukan_predikat(48)}\")"
      ],
      "metadata": {
        "colab": {
          "base_uri": "https://localhost:8080/"
        },
        "id": "bjEk-xdnLndn",
        "outputId": "8f2135f4-b5ce-4813-8564-90cac92140b9"
      },
      "execution_count": 19,
      "outputs": [
        {
          "output_type": "stream",
          "name": "stdout",
          "text": [
            "Skor 75 mendapat predikat: B\n",
            "Skor 48 mendapat predikat: E\n"
          ]
        }
      ]
    },
    {
      "cell_type": "code",
      "source": [
        "def tentukan_predikat(skor):\n",
        "    if isinstance(skor, (int, float)):\n",
        "        if skor >= 85:\n",
        "            return \"A\"\n",
        "        elif skor >= 70:\n",
        "            return \"B\"\n",
        "        elif skor >= 60:\n",
        "            return \"C\"\n",
        "        elif skor >= 50:\n",
        "            return \"D\"\n",
        "        else:\n",
        "            return \"E\"\n",
        "    else:\n",
        "        return \"ERROR\"\n",
        "\n",
        "print(f\"Skor 75 mendapat predikat: {tentukan_predikat(75)}\")\n",
        "print(f\"Skor Tujuh Lima mendapat predikat: {tentukan_predikat(\"Tujuh Lima\")}\")"
      ],
      "metadata": {
        "colab": {
          "base_uri": "https://localhost:8080/"
        },
        "id": "tO57QKNQMjsj",
        "outputId": "015ccd2c-07cd-4c86-af8d-24ef8b123857"
      },
      "execution_count": 27,
      "outputs": [
        {
          "output_type": "stream",
          "name": "stdout",
          "text": [
            "Skor 75 mendapat predikat: B\n",
            "Skor Tujuh Lima mendapat predikat: ERROR\n"
          ]
        }
      ]
    },
    {
      "cell_type": "code",
      "source": [
        "# SOAL 5: Menghitung Faktorial dengan Loop While\n",
        "def hitung_faktorial(n):\n",
        "    \"\"\"Menghitung faktorial dari bilangan positif n.\"\"\"\n",
        "    hasil = 1\n",
        "\n",
        "    # Perulangan berjalan selama n lebih besar dari 1\n",
        "    while n > 1:\n",
        "        hasil *= n\n",
        "        n -= 1  # Kurangi n\n",
        "    return hasil\n",
        "\n",
        "# Pemanggilan:\n",
        "bilangan_n = 4\n",
        "print(f\"Faktorial dari {bilangan_n} adalah: {hitung_faktorial(bilangan_n)}\")"
      ],
      "metadata": {
        "colab": {
          "base_uri": "https://localhost:8080/"
        },
        "id": "_ZvBDZFsOfo2",
        "outputId": "e24b248f-9e25-4bbb-af0a-5edf30fb4969"
      },
      "execution_count": 28,
      "outputs": [
        {
          "output_type": "stream",
          "name": "stdout",
          "text": [
            "Faktorial dari 4 adalah: 24\n"
          ]
        }
      ]
    },
    {
      "cell_type": "code",
      "source": [
        "def hitung_faktorial(n):\n",
        "    if n == 0:\n",
        "        return 1\n",
        "\n",
        "    elif n < 0:\n",
        "        return \"ERROR: Faktorial hanya untuk bilangan bulat positif.\"\n",
        "    else:\n",
        "        hasil = 1\n",
        "        while n > 1:\n",
        "            hasil *= n\n",
        "            n -= 1\n",
        "        return hasil\n",
        "\n",
        "print(f\"Faktorial dari 4 adalah: {hitung_faktorial(4)}\")\n",
        "print(f\"Faktorial dari 0 adalah: {hitung_faktorial(0)}\")\n",
        "print(f\"Faktorial dari -5 adalah: {hitung_faktorial(-5)}\")"
      ],
      "metadata": {
        "colab": {
          "base_uri": "https://localhost:8080/"
        },
        "id": "cfAlGQ3WOfk0",
        "outputId": "daf8c6ba-5383-48db-eb02-fb74e3b3cf06"
      },
      "execution_count": 29,
      "outputs": [
        {
          "output_type": "stream",
          "name": "stdout",
          "text": [
            "Faktorial dari 4 adalah: 24\n",
            "Faktorial dari 0 adalah: 1\n",
            "Faktorial dari -5 adalah: ERROR: Faktorial hanya untuk bilangan bulat positif.\n"
          ]
        }
      ]
    },
    {
      "cell_type": "code",
      "source": [
        "# SOAL 6: Analisis Data Suhu Ekstrem (for dan if/elif)\n",
        "def analisis_suhu(data_suhu):\n",
        "    \"\"\"Menghitung jumlah hari Panas dan Dingin dari data_suhu.\"\"\"\n",
        "    panas_count = 0\n",
        "    dingin_count = 0  # Inisialisasi penghitung dingin\n",
        "\n",
        "    for suhu in data_suhu:\n",
        "        if suhu >= 35:\n",
        "            panas_count += 1\n",
        "        elif suhu <= 15:  # Kondisi untuk menghitung hari Dingin (<= 15)\n",
        "            dingin_count += 1\n",
        "\n",
        "    return panas_count, dingin_count\n",
        "\n",
        "# Pemanggilan:\n",
        "suhu_mingguan = [36, 30, 14, 25, 38, 16, 28]\n",
        "jumlah_panas, jumlah_dingin = analisis_suhu(suhu_mingguan)\n",
        "print(f\"Jumlah hari Panas (>=35°C): {jumlah_panas}\")\n",
        "print(f\"Jumlah hari Dingin (<=15°C): {jumlah_dingin}\")"
      ],
      "metadata": {
        "colab": {
          "base_uri": "https://localhost:8080/"
        },
        "id": "SwS6p8maPEnD",
        "outputId": "6edab537-4527-4670-8606-f7c96a79ce1c"
      },
      "execution_count": 30,
      "outputs": [
        {
          "output_type": "stream",
          "name": "stdout",
          "text": [
            "Jumlah hari Panas (>=35°C): 2\n",
            "Jumlah hari Dingin (<=15°C): 1\n"
          ]
        }
      ]
    },
    {
      "cell_type": "code",
      "source": [
        "def analisis_suhu(data_suhu, batas_panas=35, batas_dingin=15):\n",
        "    panas_count = 0\n",
        "    dingin_count = 0\n",
        "\n",
        "    for suhu in data_suhu:\n",
        "        if suhu >= batas_panas:\n",
        "            panas_count += 1\n",
        "        elif suhu <= batas_dingin:\n",
        "            dingin_count += 1\n",
        "\n",
        "    return panas_count, dingin_count\n",
        "\n",
        "suhu_mingguan = [36, 30, 14, 25, 38, 16, 28]\n",
        "jumlah_panas, jumlah_dingin = analisis_suhu(suhu_mingguan, batas_panas=30, batas_dingin=20)\n",
        "print(f\"Jumlah hari (>=30, <=20) = Panas: {jumlah_panas}, Dingin: {jumlah_dingin}\")"
      ],
      "metadata": {
        "colab": {
          "base_uri": "https://localhost:8080/"
        },
        "id": "pCaJgG8VPGxZ",
        "outputId": "e514fa09-8c6a-4be9-f0f3-d6dbbdfb04fb"
      },
      "execution_count": 37,
      "outputs": [
        {
          "output_type": "stream",
          "name": "stdout",
          "text": [
            "Jumlah hari (>=30, <=20) = Panas: 3, Dingin: 2\n"
          ]
        }
      ]
    }
  ]
}