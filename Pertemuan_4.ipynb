{
  "nbformat": 4,
  "nbformat_minor": 0,
  "metadata": {
    "colab": {
      "provenance": [],
      "authorship_tag": "ABX9TyMYgNd2wrPmLC6vwGYta8PU",
      "include_colab_link": true
    },
    "kernelspec": {
      "name": "python3",
      "display_name": "Python 3"
    },
    "language_info": {
      "name": "python"
    }
  },
  "cells": [
    {
      "cell_type": "markdown",
      "metadata": {
        "id": "view-in-github",
        "colab_type": "text"
      },
      "source": [
        "<a href=\"https://colab.research.google.com/github/angguncaroliine/Pemerograman-Dasar/blob/main/Pertemuan_4.ipynb\" target=\"_parent\"><img src=\"https://colab.research.google.com/assets/colab-badge.svg\" alt=\"Open In Colab\"/></a>"
      ]
    },
    {
      "cell_type": "code",
      "execution_count": null,
      "metadata": {
        "colab": {
          "base_uri": "https://localhost:8080/"
        },
        "id": "hi5eKofVSvgx",
        "outputId": "b09033a8-5e66-4917-a814-3762b18ca650"
      },
      "outputs": [
        {
          "output_type": "stream",
          "name": "stdout",
          "text": [
            "Pengunjung adalah orang dewasa\n"
          ]
        }
      ],
      "source": [
        "umur: int = 20\n",
        "if umur > 17:\n",
        "  print(\"Pengunjung adalah orang dewasa\")"
      ]
    },
    {
      "cell_type": "code",
      "source": [
        "username = input(\"Masukkan username:\")\n",
        "password = input(\"Masukkan password:\")\n",
        "if username == \"admin\" and password == \"1234\":\n",
        "  print(\"Login Berhasil\")\n",
        "else:\n",
        "  print(\"Login Gagal\")"
      ],
      "metadata": {
        "colab": {
          "base_uri": "https://localhost:8080/"
        },
        "id": "fkr0SWAvUjTX",
        "outputId": "8d45470e-f181-4ed7-d240-fc67c20d56fc"
      },
      "execution_count": null,
      "outputs": [
        {
          "output_type": "stream",
          "name": "stdout",
          "text": [
            "Masukkan username:admin\n",
            "Masukkan password:1234\n",
            "Login Berhasil\n"
          ]
        }
      ]
    },
    {
      "cell_type": "code",
      "source": [
        "total_belanja = input(\"Total belanja: Rp\")\n",
        "bayar = int(total_belanja)\n",
        "if int(total_belanja) > 100000:\n",
        "  print(\"Selamat karena belanja > Rp. 100.000 anda mendapat Voucher Makan\")\n",
        "  print(\"dan Diskon 5%\")\n",
        "\n",
        "diskon = int(total_belanja) * 5/100\n",
        "bayar = int(total_belanja) - diskon\n",
        "\n",
        "print(\"Total yang harus Anda bayar: Rp %s\" % bayar)\n",
        "print(\"Terimakasih sudah belanja di Toko Kami\")\n",
        "print(\"Kami tunggu kunjungan Anda selanjutnya\")"
      ],
      "metadata": {
        "colab": {
          "base_uri": "https://localhost:8080/"
        },
        "id": "ePFthLp-VTO4",
        "outputId": "83afe1b4-581d-4a13-9c13-f818d63028ff"
      },
      "execution_count": null,
      "outputs": [
        {
          "output_type": "stream",
          "name": "stdout",
          "text": [
            "Total belanja: Rp500000\n",
            "Selamat karena belanja > Rp. 100.000 anda mendapat Voucher Makan\n",
            "dan Diskon 5%\n",
            "Total yang harus Anda bayar: Rp 475000.0\n",
            "Terimakasih sudah belanja di Toko Kami\n",
            "Kami tunggu kunjungan Anda selanjutnya\n"
          ]
        }
      ]
    },
    {
      "cell_type": "code",
      "source": [
        "ada_notifikasi_baru: bool = True\n",
        "if ada_notifikasi_baru:\n",
        "  print(\"Ada notifikasi baru\")"
      ],
      "metadata": {
        "colab": {
          "base_uri": "https://localhost:8080/"
        },
        "id": "_MvrIaH8WslH",
        "outputId": "81daf527-ffdd-495b-d774-ec7ec07cf2fd"
      },
      "execution_count": null,
      "outputs": [
        {
          "output_type": "stream",
          "name": "stdout",
          "text": [
            "Ada notifikasi baru\n"
          ]
        }
      ]
    },
    {
      "cell_type": "code",
      "source": [
        "umur = input(\"Berapa umur kamu: \")\n",
        "if int(umur) >= 18:\n",
        "  print(\"Kamu boleh membuat SIM\")\n",
        "else:\n",
        "  print(\"Kamu belum boleh membuat SIM\")"
      ],
      "metadata": {
        "colab": {
          "base_uri": "https://localhost:8080/"
        },
        "id": "CjvmuPS2W6Uj",
        "outputId": "c9bfd688-eca8-4c6a-cd91-5413fecee661"
      },
      "execution_count": null,
      "outputs": [
        {
          "output_type": "stream",
          "name": "stdout",
          "text": [
            "Berapa umur kamu:  19\n",
            "Kamu boleh membuat SIM\n"
          ]
        }
      ]
    },
    {
      "cell_type": "code",
      "source": [
        "total_belanja = 210000\n",
        "\n",
        "if total_belanja > 200000:\n",
        "  diskon = total_belanja * 0.10\n",
        "  total_bayar = total_belanja - diskon\n",
        "  print(f\"Anda mendapat diskon! Total Bayar: Rp {total_bayar}\")\n",
        "else:\n",
        "  print(f\"Total bayar: Rp {total_belanja}\")"
      ],
      "metadata": {
        "colab": {
          "base_uri": "https://localhost:8080/"
        },
        "id": "FZ0cGMALXZHc",
        "outputId": "435ae81b-1984-4b58-b008-d967444a510d"
      },
      "execution_count": null,
      "outputs": [
        {
          "output_type": "stream",
          "name": "stdout",
          "text": [
            "Anda mendapat diskon! Total Bayar: Rp 189000.0\n"
          ]
        }
      ]
    },
    {
      "cell_type": "code",
      "source": [
        "angka = int(input(\"Masukkan bilangan: \"))\n",
        "\n",
        "if angka % 2 == 0:\n",
        "  print(\"Bilangan Genap\")\n",
        "else:\n",
        "  print(\"Bilangan Ganjil\")"
      ],
      "metadata": {
        "colab": {
          "base_uri": "https://localhost:8080/"
        },
        "id": "r2jUDHUOZEn_",
        "outputId": "4b8b2e9d-9308-40e5-92a9-3350bc10a8ce"
      },
      "execution_count": null,
      "outputs": [
        {
          "output_type": "stream",
          "name": "stdout",
          "text": [
            "Masukkan bilangan: 15\n",
            "Bilangan Ganjil\n"
          ]
        }
      ]
    },
    {
      "cell_type": "code",
      "source": [
        "nilai = 80\n",
        "if nilai >= 85:\n",
        "  print(\"Luar biasa! Nilai A\")\n",
        "elif nilai >= 70:\n",
        "  print(\"Bagus! Nilai B\")\n",
        "elif nilai >= 60:\n",
        "  print(\"Cukup! Nilai C\")\n",
        "else:\n",
        "  print(\"Nilai kurang, perlu belajar lebih giat.\")"
      ],
      "metadata": {
        "colab": {
          "base_uri": "https://localhost:8080/"
        },
        "id": "NcG4RLXFZa6p",
        "outputId": "6f507a5e-e74e-4c30-dde4-22a2ccfdf19d"
      },
      "execution_count": null,
      "outputs": [
        {
          "output_type": "stream",
          "name": "stdout",
          "text": [
            "Bagus! Nilai B\n"
          ]
        }
      ]
    },
    {
      "cell_type": "code",
      "source": [
        "hari: str = \"Sabtu\"\n",
        "\n",
        "if hari == \"Sabtu\" or hari == \"Minggu\":\n",
        "  diskon: float = 0.20\n",
        "  print(f\"Selamat! Anda mendapat diskon akhir pekan sebesar {diskon*100}%.\")\n",
        "elif hari == \"Jumat\":\n",
        "  diskon: float = 0.15\n",
        "  print(f\"Diskon spesial hari Jumat! Anda mendapat potongan {diskon*100}%.\")\n",
        "else:\n",
        "  diskon: float - 0.05\n",
        "  print(f\"anda mendapat diskon hari biasa sebesar {diskon*100}%\")"
      ],
      "metadata": {
        "colab": {
          "base_uri": "https://localhost:8080/"
        },
        "id": "9srldQTiaDw6",
        "outputId": "03a84f01-5e04-4e7e-e906-0c4f002af896"
      },
      "execution_count": null,
      "outputs": [
        {
          "output_type": "stream",
          "name": "stdout",
          "text": [
            "Selamat! Anda mendapat diskon akhir pekan sebesar 20.0%.\n"
          ]
        }
      ]
    },
    {
      "cell_type": "code",
      "source": [
        "rupiah = int(input(\"Masukkan jumlah uang (Rp): \"))\n",
        "print(\"1. Dollar (USD)\")\n",
        "print(\"2. Euro (EUR)\")\n",
        "print(\"3. Yen (JPY)\")\n",
        "pilih = int(input(\"Pilih konversi (1/2/3): \"))\n",
        "\n",
        "if pilih == 1:\n",
        "  print(\"Dalam Dollar:\", rupiah / 15000)\n",
        "elif pilih == 2:\n",
        "  print(\"Dalam Euro:\", rupiah / 16000)\n",
        "elif pilih ==3:\n",
        "  print(\"Dalam Yen:\", rupiah / 120)\n",
        "else:\n",
        "  print(\"Pilihan Tidak Valid\")"
      ],
      "metadata": {
        "colab": {
          "base_uri": "https://localhost:8080/"
        },
        "id": "04wxYyPzbEnS",
        "outputId": "9ccf6b81-2a44-4062-8629-37505fd2b6fd"
      },
      "execution_count": null,
      "outputs": [
        {
          "output_type": "stream",
          "name": "stdout",
          "text": [
            "Masukkan jumlah uang (Rp): 50000\n",
            "1. Dollar (USD)\n",
            "2. Euro (EUR)\n",
            "3. Yen (JPY)\n",
            "Pilih konversi (1/2/3): 3\n",
            "Dalam Yen: 416.6666666666667\n"
          ]
        }
      ]
    }
  ]
}