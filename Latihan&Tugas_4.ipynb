{
  "nbformat": 4,
  "nbformat_minor": 0,
  "metadata": {
    "colab": {
      "provenance": [],
      "authorship_tag": "ABX9TyMObmjl0UlQm1biNtMOUUbi",
      "include_colab_link": true
    },
    "kernelspec": {
      "name": "python3",
      "display_name": "Python 3"
    },
    "language_info": {
      "name": "python"
    }
  },
  "cells": [
    {
      "cell_type": "markdown",
      "metadata": {
        "id": "view-in-github",
        "colab_type": "text"
      },
      "source": [
        "<a href=\"https://colab.research.google.com/github/angguncaroliine/Pemerograman-Dasar/blob/main/Latihan%26Tugas_4.ipynb\" target=\"_parent\"><img src=\"https://colab.research.google.com/assets/colab-badge.svg\" alt=\"Open In Colab\"/></a>"
      ]
    },
    {
      "cell_type": "code",
      "execution_count": 1,
      "metadata": {
        "colab": {
          "base_uri": "https://localhost:8080/"
        },
        "id": "HWyMUvoMoVR7",
        "outputId": "b2723b8b-2172-41be-9fd6-9f97dd4db8b8"
      },
      "outputs": [
        {
          "output_type": "stream",
          "name": "stdout",
          "text": [
            "Masukkan bilangan: 25\n",
            "Kelipatan 5\n"
          ]
        }
      ],
      "source": [
        "angka = int(input(\"Masukkan bilangan: \"))\n",
        "\n",
        "if angka % 5 == 0:\n",
        "  print(\"Kelipatan 5\")"
      ]
    },
    {
      "cell_type": "code",
      "source": [
        "tahun = int(input(\"Masukkan tahun: \"))\n",
        "\n",
        "if tahun % 400 == 0:\n",
        "    print(f\"{tahun} Tahun Kabisat\")\n",
        "elif (tahun % 4 == 0) and (tahun % 100 != 0):\n",
        "    print(f\"{tahun} Tahun Kabisat\")\n",
        "else:\n",
        "    print(f\"{tahun} bukan Tahun Kabisat\")"
      ],
      "metadata": {
        "colab": {
          "base_uri": "https://localhost:8080/"
        },
        "id": "L-w3QJmHo7am",
        "outputId": "67229961-4a8d-47f3-9863-e6ff1da0e0ea"
      },
      "execution_count": 8,
      "outputs": [
        {
          "output_type": "stream",
          "name": "stdout",
          "text": [
            "Masukkan tahun: 2025\n",
            "2025 bukan Tahun Kabisat\n"
          ]
        }
      ]
    },
    {
      "cell_type": "code",
      "source": [
        "total_belanja = int(input(\"Masukkan total belanja: Rp \"))\n",
        "\n",
        "if total_belanja >= 200000:\n",
        "  diskon: float = 0.20\n",
        "elif total_belanja >= 100000:\n",
        "  diskon: float = 0.10\n",
        "else:\n",
        "  diskon: float = 0\n",
        "\n",
        "total_bayar = total_belanja - (total_belanja *diskon)\n",
        "print(f\"Total belanjaan anda sebesar: Rp {total_belanja}\")\n",
        "print(f\"Total yang harus anda bayar: Rp {total_bayar}\")"
      ],
      "metadata": {
        "colab": {
          "base_uri": "https://localhost:8080/"
        },
        "id": "HHo3mdO3qkil",
        "outputId": "e7404dd5-bacb-4c7b-9ddc-ebeff138f535"
      },
      "execution_count": 24,
      "outputs": [
        {
          "output_type": "stream",
          "name": "stdout",
          "text": [
            "Masukkan total belanja: Rp 150000\n",
            "Total belanjaan anda sebesar: Rp 150000\n",
            "Total yang harus anda bayar: Rp 135000.0\n"
          ]
        }
      ]
    },
    {
      "cell_type": "code",
      "source": [
        "bulan = int(input(\"Masukkan bulan (1-12): \"))\n",
        "if bulan == 1:\n",
        "  print(\"Januari\")\n",
        "elif bulan == 2:\n",
        "  print(\"Februari\")\n",
        "elif bulan == 3:\n",
        "  print(\"Maret\")\n",
        "elif bulan == 4:\n",
        "  print(\"April\")\n",
        "elif bulan == 5:\n",
        "  print(\"Mei\")\n",
        "elif bulan == 6:\n",
        "  print(\"Juni\")\n",
        "elif bulan == 7:\n",
        "  print(\"Juli\")\n",
        "elif bulan == 8:\n",
        "  print(\"Agustus\")\n",
        "elif bulan == 9:\n",
        "  print(\"September\")\n",
        "elif bulan == 10:\n",
        "  print(\"Oktober\")\n",
        "elif bulan == 11:\n",
        "  print(\"November\")\n",
        "elif bulan == 12:\n",
        "  print(\"Desember\")\n",
        "else:\n",
        "  print(\"Input Salah\")"
      ],
      "metadata": {
        "colab": {
          "base_uri": "https://localhost:8080/"
        },
        "id": "I2h_CXUuwtie",
        "outputId": "b2f74147-8e43-44a5-ad03-80497eadc1bc"
      },
      "execution_count": 19,
      "outputs": [
        {
          "output_type": "stream",
          "name": "stdout",
          "text": [
            "Masukkan bulan (1-12): 6\n",
            "Juni\n"
          ]
        }
      ]
    },
    {
      "cell_type": "code",
      "source": [
        "jam = int(input(\"Masukkan jam (0-23): \"))\n",
        "\n",
        "if 0 <= jam <= 11:\n",
        "    print(\"Selamat Pagi\")\n",
        "elif 12 <= jam <= 15:\n",
        "    print(\"Selamat Siang\")\n",
        "elif 16 <= jam <= 18:\n",
        "    print(\"Selamat Sore\")\n",
        "elif 19 <= jam <= 23:\n",
        "    print(\"Selamat Malam\")\n",
        "else:\n",
        "    print(\"Input Salah\")"
      ],
      "metadata": {
        "colab": {
          "base_uri": "https://localhost:8080/"
        },
        "id": "CzrKy77fy6D9",
        "outputId": "d7d39892-8ff0-4cf3-e07d-bc91f59698ce"
      },
      "execution_count": 25,
      "outputs": [
        {
          "output_type": "stream",
          "name": "stdout",
          "text": [
            "Masukkan jam (0-23): 23\n",
            "Selamat Malam\n"
          ]
        }
      ]
    },
    {
      "cell_type": "code",
      "source": [
        "print(\"=\"*30)\n",
        "print(\"SELAMAT DATANG DI KAFE DIMONT\")\n",
        "print(\"=\"*30)\n",
        "print(\"Menu Makanan & Minuman:\")\n",
        "print(\"1. Kopi Hitam - Rp 12.000\")\n",
        "print(\"2. Teh Manis - Rp 8.000\")\n",
        "print(\"3. Roti Bakar - Rp 15.000\")\n",
        "print(\"4. Mie Instan - Rp 10.000\")\n",
        "print(\",,\"*30)\n",
        "\n",
        "pilihan_str: str = input(\"Silakan masukkan nomor pilihan Anda (1-4): \")\n",
        "pilihan: int = int(pilihan_str)\n",
        "nama_pesanan: str = \"\"\n",
        "harga: int = 0\n",
        "\n",
        "if pilihan == 1:\n",
        "    nama_pesanan = \"Kopi Hitam\"\n",
        "    harga = 12000\n",
        "    print(f\"Anda memesan: {nama_pesanan} dengan harga Rp {harga}\")\n",
        "elif pilihan == 2:\n",
        "    nama_pesanan = \"Teh Manis\"\n",
        "    harga = 8000\n",
        "    print(f\"Anda memesan: {nama_pesanan} dengan harga Rp {harga}\")\n",
        "elif pilihan == 3:\n",
        "    nama_pesanan = \"Roti Bakar\"\n",
        "    harga = 15000\n",
        "    print(f\"Anda memesan: {nama_pesanan} dengan harga Rp {harga}\")\n",
        "elif pilihan == 4:\n",
        "    nama_pesanan = \"Mie Instan\"\n",
        "    harga = 10000\n",
        "    print(f\"Anda memesan: {nama_pesanan} dengan harga Rp {harga}\")\n",
        "else:\n",
        "    print(\"Maaf, pilihan menu tidak valid. Silakan jalankan ulang program.\")\n",
        "if harga > 0:\n",
        "  print(\"..\"*30)\n",
        "\n",
        "if harga >= 15000:\n",
        "    diskon = 0.70\n",
        "elif harga >= 12000:\n",
        "    diskon = 0.50\n",
        "elif harga >= 10000:\n",
        "    diskon = 0.30\n",
        "else:\n",
        "    diskon = 0\n",
        "\n",
        "jumlah_diskon = harga * diskon\n",
        "harga_setelah_diskon = harga - jumlah_diskon\n",
        "\n",
        "if harga_setelah_diskon > 0:\n",
        "    print(\"..\"*30)\n",
        "    print(f\"Selamat! Anda mendapat potongan harga sebesar: Rp {jumlah_diskon}\")\n",
        "    uang_dibayar_str: str = input(f\"Total yang harus dibayar: Rp {harga_setelah_diskon}, Masukkan uang Anda: Rp \")\n",
        "    uang_dibayar: int = int(uang_dibayar_str)\n",
        "\n",
        "    if uang_dibayar >= harga_setelah_diskon:\n",
        "        kembalian: int = uang_dibayar - harga_setelah_diskon\n",
        "\n",
        "        print(\"\\n--- Struk Pembayaran ---\")\n",
        "        print(f\"Pesanan Anda: {nama_pesanan}\")\n",
        "        print(f\"Total Harga: Rp {harga_setelah_diskon}\")\n",
        "        print(f\"Uang Pembayaran: Rp {uang_dibayar}\")\n",
        "        print(f\"Kembalian: Rp {kembalian}\")\n",
        "        print(\"------------------------------\")\n",
        "        print(\"Terima kasih telah berbelanja!\")\n",
        "    else:\n",
        "        kekurangan: int = harga_setelah_diskon - uang_dibayar\n",
        "        print(f\"Maaf, uang Anda kurang sebesar Rp {kekurangan}\")\n",
        "\n",
        "print(\",,\"*30)"
      ],
      "metadata": {
        "colab": {
          "base_uri": "https://localhost:8080/"
        },
        "id": "2Zql2Mln9eDv",
        "outputId": "64948243-bfd1-4174-d637-d1db99d417c1"
      },
      "execution_count": 47,
      "outputs": [
        {
          "output_type": "stream",
          "name": "stdout",
          "text": [
            "==============================\n",
            "SELAMAT DATANG DI KAFE DIMONT\n",
            "==============================\n",
            "Menu Makanan & Minuman:\n",
            "1. Kopi Hitam - Rp 12.000\n",
            "2. Teh Manis - Rp 8.000\n",
            "3. Roti Bakar - Rp 15.000\n",
            "4. Mie Instan - Rp 10.000\n",
            ",,,,,,,,,,,,,,,,,,,,,,,,,,,,,,,,,,,,,,,,,,,,,,,,,,,,,,,,,,,,\n",
            "Silakan masukkan nomor pilihan Anda (1-4): 3\n",
            "Anda memesan: Roti Bakar dengan harga Rp 15000\n",
            "............................................................\n",
            "............................................................\n",
            "Selamat! Anda mendapat potongan harga sebesar: Rp 10500.0\n",
            "Total yang harus dibayar: Rp 4500.0, Masukkan uang Anda: Rp 6000\n",
            "\n",
            "--- Struk Pembayaran ---\n",
            "Pesanan Anda: Roti Bakar\n",
            "Total Harga: Rp 4500.0\n",
            "Uang Pembayaran: Rp 6000\n",
            "Kembalian: Rp 1500.0\n",
            "------------------------------\n",
            "Terima kasih telah berbelanja!\n",
            ",,,,,,,,,,,,,,,,,,,,,,,,,,,,,,,,,,,,,,,,,,,,,,,,,,,,,,,,,,,,\n"
          ]
        }
      ]
    }
  ]
}