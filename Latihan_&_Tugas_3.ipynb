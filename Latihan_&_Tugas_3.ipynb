{
  "nbformat": 4,
  "nbformat_minor": 0,
  "metadata": {
    "colab": {
      "provenance": [],
      "authorship_tag": "ABX9TyPUK3YLho3ST7b3fhFAL7yC",
      "include_colab_link": true
    },
    "kernelspec": {
      "name": "python3",
      "display_name": "Python 3"
    },
    "language_info": {
      "name": "python"
    }
  },
  "cells": [
    {
      "cell_type": "markdown",
      "metadata": {
        "id": "view-in-github",
        "colab_type": "text"
      },
      "source": [
        "<a href=\"https://colab.research.google.com/github/angguncaroliine/Pemerograman-Dasar/blob/main/Latihan_%26_Tugas_3.ipynb\" target=\"_parent\"><img src=\"https://colab.research.google.com/assets/colab-badge.svg\" alt=\"Open In Colab\"/></a>"
      ]
    },
    {
      "cell_type": "code",
      "execution_count": null,
      "metadata": {
        "id": "fxcajElG5QkI",
        "colab": {
          "base_uri": "https://localhost:8080/"
        },
        "outputId": "b9213f1c-7676-4c0b-bbfe-a10f6a42de21"
      },
      "outputs": [
        {
          "output_type": "stream",
          "name": "stdout",
          "text": [
            "masukkan tahun :2028\n",
            "2028 adalah TAHUN KABISAT\n"
          ]
        }
      ],
      "source": [
        "tahun = int(input(\"masukkan tahun :\"))\n",
        "\n",
        "if (tahun % 4 == 0 and tahun % 100 != 0) or (tahun % 400 == 0):\n",
        "  print(f\"{tahun} adalah TAHUN KABISAT\")\n",
        "else:\n",
        "    print(f\"{tahun} adalah BUKAN TAHUN KABISAT\")"
      ]
    },
    {
      "cell_type": "code",
      "source": [
        "nilai_andi = float(input(\"masukkan nilai andi\"))\n",
        "nilai_budi = float(input(\"masukkan nilai budi\"))\n",
        "nilai_udin = float(input(\"masukkan nilai udin\"))\n",
        "\n",
        "total_nilai = nilai_andi + nilai_budi + nilai_udin\n",
        "rata_rata = total_nilai // 3\n",
        "\n",
        "print(f\"total nilai kelompok 1 adalah = {total_nilai}\")\n",
        "print(f\"rata-rata nilai kelompok 1 adalah = {rata_rata}\")"
      ],
      "metadata": {
        "colab": {
          "base_uri": "https://localhost:8080/"
        },
        "id": "mS1oA7NB79i7",
        "outputId": "ba7a22f7-fb69-4171-bd39-35ae0e32f801"
      },
      "execution_count": null,
      "outputs": [
        {
          "output_type": "stream",
          "name": "stdout",
          "text": [
            "masukkan nilai andi 85\n",
            "masukkan nilai budi 80\n",
            "masukkan nilai udin 88\n",
            "total nilai kelompok 1 adalah = 253.0\n",
            "rata-rata nilai kelompok 1 adalah = 84.0\n"
          ]
        }
      ]
    },
    {
      "cell_type": "code",
      "source": [
        "capuccino = 25000\n",
        "americano = 18000\n",
        "matchalatte = 30000\n",
        "thaitea = 22000\n",
        "milo = 23000\n",
        "isMember = True\n",
        "\n",
        "subtotal = capuccino + americano + matchalatte + thaitea + milo\n",
        "\n",
        "syarat_diskon = isMember and (subtotal > 100000)\n",
        "if syarat_diskon :\n",
        "  jumlah_diskon = subtotal * 0.15\n",
        "else :\n",
        "  jumlah_diskon = 0\n",
        "\n",
        "harga_setelah_diskon = subtotal - jumlah_diskon\n",
        "\n",
        "ppn = harga_setelah_diskon * 0.11\n",
        "\n",
        "total_akhir = harga_setelah_diskon + ppn\n",
        "\n",
        "print(f\"Total belanjaan anda sebesar = {subtotal}\")\n",
        "print(f\"Anda mendapat potongan harga sebesar {jumlah_diskon}, harga belanjaan anda menjadi {harga_setelah_diskon}\")\n",
        "print(f\"Setiap pembelian dikenai pajak sebesar = {ppn}\")\n",
        "\n",
        "print(f\"TOTAL YANG HARUS ANDA BAYAR = {total_akhir}\")"
      ],
      "metadata": {
        "colab": {
          "base_uri": "https://localhost:8080/"
        },
        "id": "YdrmpYUUAOVT",
        "outputId": "1e62c02f-158b-40f7-8352-d94461d3a43c"
      },
      "execution_count": null,
      "outputs": [
        {
          "output_type": "stream",
          "name": "stdout",
          "text": [
            "Total belanjaan anda sebesar = 118000\n",
            "Anda mendapat potongan harga sebesar 17700.0, harga belanjaan anda menjadi 100300.0\n",
            "Setiap pembelian dikenai pajak sebesar = 11033.0\n",
            "TOTAL YANG HARUS ANDA BAYAR = 111333.0\n"
          ]
        }
      ]
    }
  ]
}