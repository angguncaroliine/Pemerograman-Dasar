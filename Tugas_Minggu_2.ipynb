{
  "nbformat": 4,
  "nbformat_minor": 0,
  "metadata": {
    "colab": {
      "provenance": [],
      "authorship_tag": "ABX9TyPgIIGzpSJf28HlwdCAQ5rP",
      "include_colab_link": true
    },
    "kernelspec": {
      "name": "python3",
      "display_name": "Python 3"
    },
    "language_info": {
      "name": "python"
    }
  },
  "cells": [
    {
      "cell_type": "markdown",
      "metadata": {
        "id": "view-in-github",
        "colab_type": "text"
      },
      "source": [
        "<a href=\"https://colab.research.google.com/github/angguncaroliine/Pemerograman-Dasar/blob/main/Tugas_Minggu_2.ipynb\" target=\"_parent\"><img src=\"https://colab.research.google.com/assets/colab-badge.svg\" alt=\"Open In Colab\"/></a>"
      ]
    },
    {
      "cell_type": "code",
      "execution_count": null,
      "metadata": {
        "colab": {
          "base_uri": "https://localhost:8080/"
        },
        "id": "WTRWDsYeahQL",
        "outputId": "17d4de42-4b97-4d72-dc3e-0407e1538dbf"
      },
      "outputs": [
        {
          "output_type": "stream",
          "name": "stdout",
          "text": [
            "<class 'str'>\n",
            "<class 'str'>\n",
            "<class 'int'>\n",
            "<class 'bool'>\n"
          ]
        }
      ],
      "source": [
        "firstname = \"Anggun\"\n",
        "lastname = \"Caroline\"\n",
        "age = 19\n",
        "isMarried = False\n",
        "\n",
        "print(type(firstname))\n",
        "print(type(lastname))\n",
        "print(type(age))\n",
        "print(type(isMarried))\n"
      ]
    },
    {
      "cell_type": "code",
      "source": [
        "data_diri = {\"firstname\": \"Anggun\", \"lastname\": \"Caroline\", \"age\": 19, \"isMarried\": False}\n",
        "print(type(data_diri['firstname']))\n",
        "print(type(data_diri['lastname']))\n",
        "print(type(data_diri['age']))\n",
        "print(type(data_diri['isMarried']))"
      ],
      "metadata": {
        "colab": {
          "base_uri": "https://localhost:8080/"
        },
        "id": "Mrw5eMTycf_f",
        "outputId": "05f6a88e-9814-4c80-a1eb-a0a15709e416"
      },
      "execution_count": null,
      "outputs": [
        {
          "output_type": "stream",
          "name": "stdout",
          "text": [
            "<class 'str'>\n",
            "<class 'str'>\n",
            "<class 'int'>\n",
            "<class 'bool'>\n"
          ]
        }
      ]
    },
    {
      "cell_type": "code",
      "source": [
        "inspeksi = [\"pemahaman terhadap rencana dan desain\", \"ketersediaan bahan dan peralatan\", \"pengawasan pekerjaan\", \"kualitas konstruksi\", \"keselamatan kerja\", \"koordinasi dengan pemilik proyek\"]\n",
        "print(type(inspeksi))\n",
        "print(inspeksi[0])\n",
        "print(inspeksi[1])\n",
        "print(inspeksi[2])\n",
        "print(inspeksi[3])\n",
        "print(inspeksi[4])\n",
        "print(inspeksi[5])"
      ],
      "metadata": {
        "colab": {
          "base_uri": "https://localhost:8080/"
        },
        "id": "ijEG2-ZHglii",
        "outputId": "3e2ef64c-a27f-425b-8f15-035dc7c55cdc"
      },
      "execution_count": null,
      "outputs": [
        {
          "output_type": "stream",
          "name": "stdout",
          "text": [
            "<class 'list'>\n",
            "pemahaman terhadap rencana dan desain\n",
            "ketersediaan bahan dan peralatan\n",
            "pengawasan pekerjaan\n",
            "kualitas konstruksi\n",
            "keselamatan kerja\n",
            "koordinasi dengan pemilik proyek\n"
          ]
        }
      ]
    },
    {
      "cell_type": "code",
      "source": [
        "startTime = {'HH': 9, 'mm': 23, 'ss': 57}\n",
        "print(type(startTime))\n",
        "print(startTime['HH'])\n",
        "print(startTime['mm'])\n",
        "print(startTime['ss'])\n",
        "\n",
        "endTime = {'HH': 15, 'mm': 25, 'ss': 43}\n",
        "print(type(endTime))\n",
        "print(endTime['HH'])\n",
        "print(endTime['mm'])\n",
        "print(endTime['ss'])"
      ],
      "metadata": {
        "colab": {
          "base_uri": "https://localhost:8080/"
        },
        "id": "E_8BN4RJjEQk",
        "outputId": "992ff4ea-dafa-4ad6-e6dd-0351fa743264"
      },
      "execution_count": null,
      "outputs": [
        {
          "output_type": "stream",
          "name": "stdout",
          "text": [
            "<class 'dict'>\n",
            "9\n",
            "23\n",
            "57\n",
            "<class 'dict'>\n",
            "15\n",
            "25\n",
            "43\n"
          ]
        }
      ]
    },
    {
      "cell_type": "code",
      "source": [
        "katalog_A = {'baju', 'celana', 'sepatu'}\n",
        "katalog_B = {'sendal', 'topi', 'dasi'}\n",
        "produk_diskon = ('topi', 'baju', 'sendal')\n",
        "print(type(katalog_A))\n",
        "print(type(katalog_B))\n",
        "print(type(produk_diskon))\n",
        "\n",
        "katalog_lengkap = katalog_A.union(katalog_B)\n",
        "print(katalog_lengkap)\n",
        "produk_promo_aktif = kataloglengkap.intersection(produk_diskon)\n",
        "print(produk_promo_aktif)\n",
        "\n",
        "\n",
        "\n"
      ],
      "metadata": {
        "colab": {
          "base_uri": "https://localhost:8080/"
        },
        "id": "jbur9aHSl-nb",
        "outputId": "4524bfe7-ccbb-49cd-cfcd-0f263c5fbcbe"
      },
      "execution_count": null,
      "outputs": [
        {
          "output_type": "stream",
          "name": "stdout",
          "text": [
            "<class 'set'>\n",
            "<class 'set'>\n",
            "<class 'tuple'>\n",
            "{'sendal', 'dasi', 'topi', 'baju', 'sepatu', 'celana'}\n",
            "{'sendal', 'baju', 'topi'}\n"
          ]
        }
      ]
    }
  ]
}